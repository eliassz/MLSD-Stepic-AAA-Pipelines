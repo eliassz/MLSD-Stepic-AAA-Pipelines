{
  "cells": [
    {
      "cell_type": "markdown",
      "id": "1b582c0a-7526-41a5-a984-3593c529f107",
      "metadata": {
        "id": "1b582c0a-7526-41a5-a984-3593c529f107"
      },
      "source": [
        "# BaseLine"
      ]
    },
    {
      "cell_type": "code",
      "execution_count": null,
      "id": "750277de-765e-4c8a-9cca-1fac6e268c2c",
      "metadata": {
        "id": "750277de-765e-4c8a-9cca-1fac6e268c2c"
      },
      "outputs": [],
      "source": [
        "import pandas as pd\n",
        "from sklearn import datasets\n",
        "import pandas as pd\n",
        "\n",
        "\n",
        "features = ['sepal_len', 'sepal_wid', 'petal_len', 'petal_wid']\n",
        "\n",
        "\n",
        "iris = datasets.load_iris()\n",
        "iris_df=pd.DataFrame(iris.data)\n",
        "iris_df.columns=features\n",
        "iris_df['target'] = iris.target\n"
      ]
    },
    {
      "cell_type": "code",
      "execution_count": null,
      "id": "40fe79cd-1e0c-480a-8122-b21e7595e361",
      "metadata": {
        "id": "40fe79cd-1e0c-480a-8122-b21e7595e361"
      },
      "outputs": [],
      "source": [
        "x = iris.data\n",
        "y = iris.target"
      ]
    },
    {
      "cell_type": "code",
      "execution_count": null,
      "id": "5cdf2dba-fc2e-45d7-945d-0ab0034e4971",
      "metadata": {
        "id": "5cdf2dba-fc2e-45d7-945d-0ab0034e4971"
      },
      "outputs": [],
      "source": [
        "from sklearn.tree import DecisionTreeClassifier\n",
        "from sklearn.ensemble import RandomForestClassifier\n",
        "from sklearn.model_selection import train_test_split\n",
        "from sklearn.metrics import recall_score, precision_score"
      ]
    },
    {
      "cell_type": "code",
      "execution_count": null,
      "id": "9b45e69d-c29d-4dd1-9852-998f0b77a432",
      "metadata": {
        "id": "9b45e69d-c29d-4dd1-9852-998f0b77a432"
      },
      "outputs": [],
      "source": [
        "test_size=0.8\n",
        "train_x, test_x, train_y, test_y  = train_test_split(x[:, :], y, test_size=test_size, random_state=1)"
      ]
    },
    {
      "cell_type": "code",
      "execution_count": null,
      "id": "1c2108fe-b4b9-4242-9b70-b872831acf1d",
      "metadata": {
        "scrolled": true,
        "id": "1c2108fe-b4b9-4242-9b70-b872831acf1d"
      },
      "outputs": [],
      "source": [
        "model_name = 'RandomForestClassifier'\n",
        "model = RandomForestClassifier(random_state=1)\n",
        "model.fit(train_x, train_y)\n",
        "\n",
        "pred_test_y =model.predict(test_x)"
      ]
    },
    {
      "cell_type": "code",
      "execution_count": null,
      "id": "fbdc3adb-a3d6-4c9d-a9e3-7a16e13458f7",
      "metadata": {
        "id": "fbdc3adb-a3d6-4c9d-a9e3-7a16e13458f7",
        "outputId": "47f061c0-d475-499e-eff8-0b92485c4959"
      },
      "outputs": [
        {
          "data": {
            "text/plain": [
              "(0.9416666666666667, 0.9435416666666666)"
            ]
          },
          "execution_count": 12,
          "metadata": {},
          "output_type": "execute_result"
        }
      ],
      "source": [
        "recal = recall_score(test_y, pred_test_y,average='weighted')\n",
        "\n",
        "prec = precision_score(test_y, pred_test_y,average='weighted')\n",
        "recal, prec"
      ]
    },
    {
      "cell_type": "code",
      "execution_count": null,
      "id": "5ac7c576-399b-4995-a2de-d1de561d4daf",
      "metadata": {
        "id": "5ac7c576-399b-4995-a2de-d1de561d4daf",
        "outputId": "a5dab379-1d36-4dd4-a095-c362f144b70a"
      },
      "outputs": [
        {
          "data": {
            "image/png": "[encoded data removed]",
            "text/plain": [
              "<Figure size 640x480 with 2 Axes>"
            ]
          },
          "metadata": {},
          "output_type": "display_data"
        }
      ],
      "source": [
        "import seaborn as sns\n",
        "import matplotlib.pyplot as plt\n",
        "\n",
        "sns.heatmap(iris_df.corr())\n",
        "plt.savefig('data/corr.png')"
      ]
    },
    {
      "cell_type": "markdown",
      "id": "01d7c59a-c952-44f4-b2e1-b614142a8a07",
      "metadata": {
        "id": "01d7c59a-c952-44f4-b2e1-b614142a8a07"
      },
      "source": [
        "# Mlflow (http://84.201.128.89:90/)"
      ]
    },
    {
      "cell_type": "code",
      "execution_count": null,
      "id": "03bc0b87-0566-450e-a1e8-5bc01b7805db",
      "metadata": {
        "id": "03bc0b87-0566-450e-a1e8-5bc01b7805db"
      },
      "outputs": [],
      "source": [
        "import mlflow\n",
        "\n",
        "mlflow.set_tracking_uri('http://84.201.128.89:90/')\n",
        "\n",
        "mlflow.set_experiment('admastryukov-seminar')\n",
        "\n",
        "with mlflow.start_run(run_name='tree'):\n",
        "    mlflow.log_metrics(\n",
        "        {\n",
        "            'prec': prec,\n",
        "            'recal': recal,\n",
        "        }\n",
        "    )\n",
        "    mlflow.log_params(\n",
        "        {\n",
        "        'model_name': model_name,\n",
        "        'num_features': len(train_x[0]),\n",
        "            'test_size': test_size,\n",
        "        }\n",
        "    )\n",
        "\n",
        "    mlflow.log_artifact('data/corr.png')\n"
      ]
    },
    {
      "cell_type": "markdown",
      "id": "2e13625c-fcad-4c95-a519-ac048f9a0d73",
      "metadata": {
        "id": "2e13625c-fcad-4c95-a519-ac048f9a0d73"
      },
      "source": [
        "# Задание на семинар\n",
        "\n",
        "Это учебное простое задание на логирование запусков и аналитику экспериментов. Основная цель - выбрать наиболее подходящую модель для задачи.\n",
        "\n",
        "Для этого предлагается:\n",
        "1) перебрать модели из sklearn\n",
        "2) потюнить параметры\n",
        "3) Залогировать все артифакты в mlflow (не большее 100 МБ)\n",
        "4) Выбрать лучшую модель в своем эксперименте\n",
        "5) Название эксперимента в таком формате: seminar-<name>. Другие будут удалены\n",
        "   "
      ]
    },
    {
      "cell_type": "code",
      "execution_count": null,
      "id": "0b6cc4bc-b1f5-43ad-9dbf-ae6450f62f1d",
      "metadata": {
        "id": "0b6cc4bc-b1f5-43ad-9dbf-ae6450f62f1d"
      },
      "outputs": [],
      "source": []
    }
  ],
  "metadata": {
    "kernelspec": {
      "display_name": "Python 3 (ipykernel)",
      "language": "python",
      "name": "python3"
    },
    "language_info": {
      "codemirror_mode": {
        "name": "ipython",
        "version": 3
      },
      "file_extension": ".py",
      "mimetype": "text/x-python",
      "name": "python",
      "nbconvert_exporter": "python",
      "pygments_lexer": "ipython3",
      "version": "3.10.14"
    },
    "colab": {
      "provenance": []
    }
  },
  "nbformat": 4,
  "nbformat_minor": 5
}